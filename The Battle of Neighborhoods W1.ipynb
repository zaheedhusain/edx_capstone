{
 "cells": [
  {
   "cell_type": "markdown",
   "metadata": {},
   "source": [
    "# The Battle of Neighborhoods W1"
   ]
  },
  {
   "cell_type": "markdown",
   "metadata": {},
   "source": [
    "## Introduction"
   ]
  },
  {
   "cell_type": "markdown",
   "metadata": {},
   "source": [
    "Tourism has always been a booming sector across the globe. No matter which country you live in, you can always come across a group of people, big or small, who always like to visit places. I being an adventurer myself can acknowledge this fact as to how tourism plays a salient role for a traveler/explorer. Tourism is not only an important aspect of a country’s economy but also for its global standing.\n",
    "\n",
    "###### Why Tourism is important to any country? -      \n",
    "The tourism industry is important for the benefits it brings and due to its role as a commercial activity that creates demand and growth for many more industries. Tourism not only contributes to more economic activities but also generates more employment, revenues, and play a significant role in development.\n",
    "    * Tourism activity creates demand\n",
    "    * Tourism industry value chain meets & spreads demand across industries & boosts more economic activities\n",
    "    * Tourism induces more consumption"
   ]
  },
  {
   "cell_type": "markdown",
   "metadata": {},
   "source": [
    "## Business Problem"
   ]
  },
  {
   "cell_type": "markdown",
   "metadata": {},
   "source": [
    "All the benefits of tourism tend to reflect on the employment opportunity which it gives to the people of that country. The objective of this project is to analyze the tourist places of a given state in India and try to recommend the best location where they can open a restaurant or lodging to make the best use of the opportunity.\n",
    "\n",
    "\n",
    "The target audience for this project include people who are interested in opening a restaurant, lodging, transport services or any other similar businesses which fall within the tourism industry"
   ]
  },
  {
   "cell_type": "markdown",
   "metadata": {},
   "source": [
    "## Data Anatomization"
   ]
  },
  {
   "cell_type": "markdown",
   "metadata": {},
   "source": [
    "To tackle the above mentioned problem, we need to have the dataset that contains\n",
    "    + All the districts of a particular country\n",
    "    + Latitude and longitudes of all the districts\n",
    "\n",
    "###### Source\n",
    "The Wikipedia page https://en.wikipedia.org/wiki/List_of_districts_in_India is the major source of data that is being used to obtain all the districts of India. We then use beautifulsoup4 package, a Python module that helps to scrape information from the web pages to extract all the tables from this Wikipedia page and convert it into a pandas dataframe. Then we use Python’s geopy package to obtain the latitude and longitude of all the districts present in the dataframe.  \n",
    "\n",
    "###### Description of the data -  \n",
    "The output shows the final dataset . The dataset consists of a single Dataframe with 9 columns containing state, districts, latitude and longitudes of the particular district etc. Other columns like code, headquarters, population, area and density have also been scraped from the website which can be used for further analysis.\n"
   ]
  },
  {
   "cell_type": "code",
   "execution_count": 1,
   "metadata": {},
   "outputs": [
    {
     "data": {
      "text/html": [
       "<div>\n",
       "<style scoped>\n",
       "    .dataframe tbody tr th:only-of-type {\n",
       "        vertical-align: middle;\n",
       "    }\n",
       "\n",
       "    .dataframe tbody tr th {\n",
       "        vertical-align: top;\n",
       "    }\n",
       "\n",
       "    .dataframe thead th {\n",
       "        text-align: right;\n",
       "    }\n",
       "</style>\n",
       "<table border=\"1\" class=\"dataframe\">\n",
       "  <thead>\n",
       "    <tr style=\"text-align: right;\">\n",
       "      <th></th>\n",
       "      <th>State</th>\n",
       "      <th>Code</th>\n",
       "      <th>District</th>\n",
       "      <th>Headquarters</th>\n",
       "      <th>Population(2011)</th>\n",
       "      <th>Area(km2)</th>\n",
       "      <th>Density(/km2)</th>\n",
       "      <th>Latitude</th>\n",
       "      <th>Longitude</th>\n",
       "    </tr>\n",
       "  </thead>\n",
       "  <tbody>\n",
       "    <tr>\n",
       "      <th>0</th>\n",
       "      <td>Andaman and Nicobar</td>\n",
       "      <td>NI</td>\n",
       "      <td>Nicobar</td>\n",
       "      <td>Car Nicobar</td>\n",
       "      <td>36842</td>\n",
       "      <td>1841.0</td>\n",
       "      <td>20</td>\n",
       "      <td>7.000000</td>\n",
       "      <td>93.000000</td>\n",
       "    </tr>\n",
       "    <tr>\n",
       "      <th>1</th>\n",
       "      <td>Andaman and Nicobar</td>\n",
       "      <td>NaN</td>\n",
       "      <td>North and Middle Andaman</td>\n",
       "      <td>Mayabunder</td>\n",
       "      <td>105597</td>\n",
       "      <td>3736.0</td>\n",
       "      <td>28</td>\n",
       "      <td>12.611239</td>\n",
       "      <td>92.831654</td>\n",
       "    </tr>\n",
       "    <tr>\n",
       "      <th>2</th>\n",
       "      <td>Andaman and Nicobar</td>\n",
       "      <td>SA</td>\n",
       "      <td>South Andaman</td>\n",
       "      <td>Port Blair</td>\n",
       "      <td>238142</td>\n",
       "      <td>2672.0</td>\n",
       "      <td>89</td>\n",
       "      <td>10.705690</td>\n",
       "      <td>92.487468</td>\n",
       "    </tr>\n",
       "    <tr>\n",
       "      <th>3</th>\n",
       "      <td>Andhra Pradesh</td>\n",
       "      <td>AN</td>\n",
       "      <td>Anantapur</td>\n",
       "      <td>Anantapur</td>\n",
       "      <td>4083315</td>\n",
       "      <td>19130.0</td>\n",
       "      <td>213</td>\n",
       "      <td>14.654623</td>\n",
       "      <td>77.556260</td>\n",
       "    </tr>\n",
       "    <tr>\n",
       "      <th>4</th>\n",
       "      <td>Andhra Pradesh</td>\n",
       "      <td>CH</td>\n",
       "      <td>Chittoor</td>\n",
       "      <td>Chittoor</td>\n",
       "      <td>4170468</td>\n",
       "      <td>15152.0</td>\n",
       "      <td>275</td>\n",
       "      <td>13.160105</td>\n",
       "      <td>79.155551</td>\n",
       "    </tr>\n",
       "  </tbody>\n",
       "</table>\n",
       "</div>"
      ],
      "text/plain": [
       "                 State Code                  District Headquarters  \\\n",
       "0  Andaman and Nicobar   NI                   Nicobar  Car Nicobar   \n",
       "1  Andaman and Nicobar  NaN  North and Middle Andaman   Mayabunder   \n",
       "2  Andaman and Nicobar   SA             South Andaman   Port Blair   \n",
       "3       Andhra Pradesh   AN                 Anantapur    Anantapur   \n",
       "4       Andhra Pradesh   CH                  Chittoor     Chittoor   \n",
       "\n",
       "   Population(2011)  Area(km2)  Density(/km2)   Latitude  Longitude  \n",
       "0             36842     1841.0             20   7.000000  93.000000  \n",
       "1            105597     3736.0             28  12.611239  92.831654  \n",
       "2            238142     2672.0             89  10.705690  92.487468  \n",
       "3           4083315    19130.0            213  14.654623  77.556260  \n",
       "4           4170468    15152.0            275  13.160105  79.155551  "
      ]
     },
     "execution_count": 1,
     "metadata": {},
     "output_type": "execute_result"
    }
   ],
   "source": [
    "import pandas as pd\n",
    "df = pd.read_excel('capstone_dataset.xlsx')\n",
    "df.head()"
   ]
  }
 ],
 "metadata": {
  "kernelspec": {
   "display_name": "Python 3",
   "language": "python",
   "name": "python3"
  },
  "language_info": {
   "codemirror_mode": {
    "name": "ipython",
    "version": 3
   },
   "file_extension": ".py",
   "mimetype": "text/x-python",
   "name": "python",
   "nbconvert_exporter": "python",
   "pygments_lexer": "ipython3",
   "version": "3.7.2"
  }
 },
 "nbformat": 4,
 "nbformat_minor": 4
}
